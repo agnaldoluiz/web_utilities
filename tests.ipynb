{
 "cells": [
  {
   "cell_type": "code",
   "execution_count": 35,
   "metadata": {},
   "outputs": [
    {
     "name": "stdout",
     "output_type": "stream",
     "text": [
      "                Nome  Cliente                          Email DataInicio  \\\n",
      "0      Agnaldo Cunha  Kearney      agnaldo.cunha@kearney.com  8/14/2020   \n",
      "1  Cláudio Gonçalves  Kearney  claudio.goncalves@kearney.com  8/14/2020   \n",
      "2        Diogo Cunha  Kearney        diogo.cunha@kearney.com  8/14/2020   \n",
      "3       Thais Santos    Cemig      thais.santos@cemig.com.br  8/14/2020   \n",
      "4             Random   RAndom                           adsa  8/14/2020   \n",
      "\n",
      "     DataFim  AcessoConstante  \n",
      "0        NaN             True  \n",
      "1        NaN             True  \n",
      "2        NaN             True  \n",
      "3  8/24/2020            False  \n",
      "4  8/17/2020            False  \n"
     ]
    }
   ],
   "source": [
    "import pandas as pd\n",
    "\n",
    "googleSheetId = '12MX7va9uq9Uy99Ev7qNIqDKmAFwNTbLGt7DNfyB83Nk'\n",
    "worksheetName = 'Sheet1'\n",
    "URL = 'https://docs.google.com/spreadsheets/d/{0}/gviz/tq?tqx=out:csv&sheet={1}'.format(\n",
    "    googleSheetId,\n",
    "    worksheetName\n",
    ")\n",
    "\n",
    "df = pd.read_csv(URL)\n",
    "print(df)"
   ]
  },
  {
   "cell_type": "code",
   "execution_count": 36,
   "metadata": {},
   "outputs": [],
   "source": [
    "df['DataInicio'] = pd.to_datetime(df['DataInicio'], errors='coerce')\n",
    "df['DataFim'] = pd.to_datetime(df['DataFim'], errors='coerce')"
   ]
  },
  {
   "cell_type": "code",
   "execution_count": 37,
   "metadata": {},
   "outputs": [
    {
     "name": "stdout",
     "output_type": "stream",
     "text": [
      "<class 'pandas.core.frame.DataFrame'>\n",
      "RangeIndex: 5 entries, 0 to 4\n",
      "Data columns (total 6 columns):\n",
      " #   Column           Non-Null Count  Dtype         \n",
      "---  ------           --------------  -----         \n",
      " 0   Nome             5 non-null      object        \n",
      " 1   Cliente          5 non-null      object        \n",
      " 2   Email            5 non-null      object        \n",
      " 3   DataInicio       5 non-null      datetime64[ns]\n",
      " 4   DataFim          2 non-null      datetime64[ns]\n",
      " 5   AcessoConstante  5 non-null      bool          \n",
      "dtypes: bool(1), datetime64[ns](2), object(3)\n",
      "memory usage: 333.0+ bytes\n"
     ]
    }
   ],
   "source": [
    "df.info()"
   ]
  },
  {
   "cell_type": "code",
   "execution_count": 38,
   "metadata": {},
   "outputs": [
    {
     "data": {
      "text/plain": [
       "['agnaldo.cunha@kearney.com',\n",
       " 'claudio.goncalves@kearney.com',\n",
       " 'diogo.cunha@kearney.com',\n",
       " 'thais.santos@cemig.com.br',\n",
       " 'adsa']"
      ]
     },
     "execution_count": 38,
     "metadata": {},
     "output_type": "execute_result"
    }
   ],
   "source": [
    "df.Email.tolist()"
   ]
  },
  {
   "cell_type": "code",
   "execution_count": 44,
   "metadata": {},
   "outputs": [
    {
     "data": {
      "text/plain": [
       "datetime.datetime(2020, 8, 17, 3, 39, 26, 133358)"
      ]
     },
     "execution_count": 44,
     "metadata": {},
     "output_type": "execute_result"
    }
   ],
   "source": [
    "from datetime import datetime, timedelta\n",
    "\n",
    "# Current date time in local system\n",
    "now = datetime.now()\n",
    "now"
   ]
  },
  {
   "cell_type": "code",
   "execution_count": 40,
   "metadata": {},
   "outputs": [
    {
     "data": {
      "text/plain": [
       "True"
      ]
     },
     "execution_count": 40,
     "metadata": {},
     "output_type": "execute_result"
    }
   ],
   "source": [
    "df.DataFim.iloc[3] > now"
   ]
  },
  {
   "cell_type": "code",
   "execution_count": 45,
   "metadata": {},
   "outputs": [
    {
     "data": {
      "text/plain": [
       "True"
      ]
     },
     "execution_count": 45,
     "metadata": {},
     "output_type": "execute_result"
    }
   ],
   "source": [
    "df.DataFim.iloc[4] + timedelta(days=1) > now"
   ]
  },
  {
   "cell_type": "code",
   "execution_count": 42,
   "metadata": {},
   "outputs": [
    {
     "data": {
      "text/plain": [
       "datetime.datetime(2020, 8, 17, 3, 38, 40, 619395)"
      ]
     },
     "execution_count": 42,
     "metadata": {},
     "output_type": "execute_result"
    }
   ],
   "source": [
    "now"
   ]
  },
  {
   "cell_type": "code",
   "execution_count": 34,
   "metadata": {},
   "outputs": [
    {
     "data": {
      "text/plain": [
       "Timestamp('2020-08-16 00:00:00')"
      ]
     },
     "execution_count": 34,
     "metadata": {},
     "output_type": "execute_result"
    }
   ],
   "source": [
    "df.DataFim.iloc[4]"
   ]
  },
  {
   "cell_type": "code",
   "execution_count": 56,
   "metadata": {},
   "outputs": [],
   "source": [
    "email = 'thais.santos@cemig.com.br'"
   ]
  },
  {
   "cell_type": "code",
   "execution_count": 63,
   "metadata": {},
   "outputs": [
    {
     "data": {
      "text/plain": [
       "Timestamp('2020-08-24 00:00:00')"
      ]
     },
     "execution_count": 63,
     "metadata": {},
     "output_type": "execute_result"
    }
   ],
   "source": [
    "df[df.Email == email].DataFim.iloc[0]"
   ]
  },
  {
   "cell_type": "code",
   "execution_count": 62,
   "metadata": {},
   "outputs": [
    {
     "data": {
      "text/plain": [
       "False"
      ]
     },
     "execution_count": 62,
     "metadata": {},
     "output_type": "execute_result"
    }
   ],
   "source": [
    "df[df.Email == email].AcessoConstante.iloc[0]"
   ]
  },
  {
   "cell_type": "code",
   "execution_count": null,
   "metadata": {},
   "outputs": [],
   "source": []
  }
 ],
 "metadata": {
  "kernelspec": {
   "display_name": "Python 3",
   "language": "python",
   "name": "python3"
  },
  "language_info": {
   "codemirror_mode": {
    "name": "ipython",
    "version": 3
   },
   "file_extension": ".py",
   "mimetype": "text/x-python",
   "name": "python",
   "nbconvert_exporter": "python",
   "pygments_lexer": "ipython3",
   "version": "3.7.6"
  }
 },
 "nbformat": 4,
 "nbformat_minor": 4
}
